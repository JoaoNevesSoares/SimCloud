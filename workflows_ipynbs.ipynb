{
  "nbformat": 4,
  "nbformat_minor": 0,
  "metadata": {
    "colab": {
      "provenance": []
    },
    "kernelspec": {
      "name": "python3",
      "display_name": "Python 3"
    },
    "language_info": {
      "name": "python"
    }
  },
  "cells": [
    {
      "cell_type": "code",
      "execution_count": null,
      "metadata": {
        "colab": {
          "base_uri": "https://localhost:8080/"
        },
        "id": "gWWnHJ-bzoLG",
        "outputId": "8636ac5e-cbb9-4c82-eb8c-42b1e65ef244"
      },
      "outputs": [
        {
          "output_type": "stream",
          "name": "stdout",
          "text": [
            "Collecting wfcommons\n",
            "  Downloading wfcommons-1.0.tar.gz (5.7 MB)\n",
            "\u001b[2K     \u001b[90m━━━━━━━━━━━━━━━━━━━━━━━━━━━━━━━━━━━━━━━━\u001b[0m \u001b[32m5.7/5.7 MB\u001b[0m \u001b[31m15.9 MB/s\u001b[0m eta \u001b[36m0:00:00\u001b[0m\n",
            "\u001b[?25h  Preparing metadata (setup.py) ... \u001b[?25l\u001b[?25hdone\n",
            "Requirement already satisfied: jsonschema in /usr/local/lib/python3.10/dist-packages (from wfcommons) (4.23.0)\n",
            "Requirement already satisfied: matplotlib in /usr/local/lib/python3.10/dist-packages (from wfcommons) (3.7.1)\n",
            "Requirement already satisfied: networkx in /usr/local/lib/python3.10/dist-packages (from wfcommons) (3.3)\n",
            "Requirement already satisfied: numpy in /usr/local/lib/python3.10/dist-packages (from wfcommons) (1.26.4)\n",
            "Requirement already satisfied: python-dateutil in /usr/local/lib/python3.10/dist-packages (from wfcommons) (2.8.2)\n",
            "Requirement already satisfied: requests in /usr/local/lib/python3.10/dist-packages (from wfcommons) (2.31.0)\n",
            "Requirement already satisfied: scipy in /usr/local/lib/python3.10/dist-packages (from wfcommons) (1.13.1)\n",
            "Requirement already satisfied: setuptools in /usr/local/lib/python3.10/dist-packages (from wfcommons) (71.0.4)\n",
            "Requirement already satisfied: pyyaml in /usr/local/lib/python3.10/dist-packages (from wfcommons) (6.0.1)\n",
            "Requirement already satisfied: pandas in /usr/local/lib/python3.10/dist-packages (from wfcommons) (2.1.4)\n",
            "Collecting stringcase (from wfcommons)\n",
            "  Downloading stringcase-1.2.0.tar.gz (3.0 kB)\n",
            "  Preparing metadata (setup.py) ... \u001b[?25l\u001b[?25hdone\n",
            "Requirement already satisfied: attrs>=22.2.0 in /usr/local/lib/python3.10/dist-packages (from jsonschema->wfcommons) (23.2.0)\n",
            "Requirement already satisfied: jsonschema-specifications>=2023.03.6 in /usr/local/lib/python3.10/dist-packages (from jsonschema->wfcommons) (2023.12.1)\n",
            "Requirement already satisfied: referencing>=0.28.4 in /usr/local/lib/python3.10/dist-packages (from jsonschema->wfcommons) (0.35.1)\n",
            "Requirement already satisfied: rpds-py>=0.7.1 in /usr/local/lib/python3.10/dist-packages (from jsonschema->wfcommons) (0.19.1)\n",
            "Requirement already satisfied: contourpy>=1.0.1 in /usr/local/lib/python3.10/dist-packages (from matplotlib->wfcommons) (1.2.1)\n",
            "Requirement already satisfied: cycler>=0.10 in /usr/local/lib/python3.10/dist-packages (from matplotlib->wfcommons) (0.12.1)\n",
            "Requirement already satisfied: fonttools>=4.22.0 in /usr/local/lib/python3.10/dist-packages (from matplotlib->wfcommons) (4.53.1)\n",
            "Requirement already satisfied: kiwisolver>=1.0.1 in /usr/local/lib/python3.10/dist-packages (from matplotlib->wfcommons) (1.4.5)\n",
            "Requirement already satisfied: packaging>=20.0 in /usr/local/lib/python3.10/dist-packages (from matplotlib->wfcommons) (24.1)\n",
            "Requirement already satisfied: pillow>=6.2.0 in /usr/local/lib/python3.10/dist-packages (from matplotlib->wfcommons) (9.4.0)\n",
            "Requirement already satisfied: pyparsing>=2.3.1 in /usr/local/lib/python3.10/dist-packages (from matplotlib->wfcommons) (3.1.2)\n",
            "Requirement already satisfied: six>=1.5 in /usr/local/lib/python3.10/dist-packages (from python-dateutil->wfcommons) (1.16.0)\n",
            "Requirement already satisfied: pytz>=2020.1 in /usr/local/lib/python3.10/dist-packages (from pandas->wfcommons) (2024.1)\n",
            "Requirement already satisfied: tzdata>=2022.1 in /usr/local/lib/python3.10/dist-packages (from pandas->wfcommons) (2024.1)\n",
            "Requirement already satisfied: charset-normalizer<4,>=2 in /usr/local/lib/python3.10/dist-packages (from requests->wfcommons) (3.3.2)\n",
            "Requirement already satisfied: idna<4,>=2.5 in /usr/local/lib/python3.10/dist-packages (from requests->wfcommons) (3.7)\n",
            "Requirement already satisfied: urllib3<3,>=1.21.1 in /usr/local/lib/python3.10/dist-packages (from requests->wfcommons) (2.0.7)\n",
            "Requirement already satisfied: certifi>=2017.4.17 in /usr/local/lib/python3.10/dist-packages (from requests->wfcommons) (2024.7.4)\n",
            "Building wheels for collected packages: wfcommons, stringcase\n",
            "  Building wheel for wfcommons (setup.py) ... \u001b[?25l\u001b[?25hdone\n",
            "  Created wheel for wfcommons: filename=wfcommons-1.0-cp310-cp310-linux_x86_64.whl size=6073457 sha256=f6307c23f3a92251e3e2e4dad6d4c12cef12255a52448d6b77e1c9ede95ef030\n",
            "  Stored in directory: /root/.cache/pip/wheels/13/fd/79/e049528ea23c595efb18a59b5f87496a2831a917743aa6d595\n",
            "  Building wheel for stringcase (setup.py) ... \u001b[?25l\u001b[?25hdone\n",
            "  Created wheel for stringcase: filename=stringcase-1.2.0-py3-none-any.whl size=3569 sha256=4a3bf4630b39633a7aa4b41ada145c5391be9aef62393072889040f809e1a70c\n",
            "  Stored in directory: /root/.cache/pip/wheels/31/ba/22/1a2d952a9ce8aa86e42fda41e2c87fdaf20e238c88bf8df013\n",
            "Successfully built wfcommons stringcase\n",
            "Installing collected packages: stringcase, wfcommons\n",
            "Successfully installed stringcase-1.2.0 wfcommons-1.0\n"
          ]
        }
      ],
      "source": [
        "!python3 -m pip install wfcommons"
      ]
    },
    {
      "cell_type": "code",
      "source": [
        "import pathlib\n",
        "from wfcommons.wfchef.recipes import *\n",
        "from wfcommons import WorkflowGenerator\n",
        "\n",
        "# Dicionário para mapear nomes de receitas aos seus respectivos classes\n",
        "recipes = {\n",
        "    #'Soykb': SoykbRecipe,\n",
        "    #'Blast': BlastRecipe,\n",
        "    'Epigenomics': EpigenomicsRecipe,\n",
        "    'Montage': MontageRecipe,\n",
        "    'Seismology': SeismologyRecipe,\n",
        "    #\"Bwa\": BwaRecipe,\n",
        "    #\"Cycles\": CyclesRecipe,\n",
        "    #\"Genome\": GenomeRecipe,\n",
        "    #\"Srasearch\": SrasearchRecipe,\n",
        "}\n",
        "\n",
        "# Função para gerar e escrever o workflow\n",
        "def generate_and_write_workflow(recipe_class, num_tasks):\n",
        "    recipe = recipe_class.from_num_tasks(num_tasks=num_tasks,runtime_factor=1000.0,input_file_size_factor=0.0001,output_file_size_factor=0.00001)\n",
        "    generator = WorkflowGenerator(recipe)\n",
        "    workflow = generator.build_workflow()\n",
        "    workflow.write_json(pathlib.Path(f'{recipe_class.__name__.lower()}-{num_tasks}.json'))\n",
        "\n",
        "# Tamanhos desejados\n",
        "sizes = [529,391,678]\n",
        "# Gerando workflows para cada receita e tamanho\n",
        "for name, recipe_class in recipes.items():\n",
        "    for size in sizes:\n",
        "        generate_and_write_workflow(recipe_class, size)"
      ],
      "metadata": {
        "id": "GJfCvvFKG7Oq"
      },
      "execution_count": null,
      "outputs": []
    }
  ]
}